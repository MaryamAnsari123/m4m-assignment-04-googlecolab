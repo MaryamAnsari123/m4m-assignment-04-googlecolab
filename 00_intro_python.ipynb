{
  "nbformat": 4,
  "nbformat_minor": 0,
  "metadata": {
    "colab": {
      "provenance": [],
      "authorship_tag": "ABX9TyNl1qdNIhMzl8Xf1aX2IW8R",
      "include_colab_link": true
    },
    "kernelspec": {
      "name": "python3",
      "display_name": "Python 3"
    },
    "language_info": {
      "name": "python"
    }
  },
  "cells": [
    {
      "cell_type": "markdown",
      "metadata": {
        "id": "view-in-github",
        "colab_type": "text"
      },
      "source": [
        "<a href=\"https://colab.research.google.com/github/MaryamAnsari123/m4m-assignment-04-googlecolab/blob/main/00_intro_python.ipynb\" target=\"_parent\"><img src=\"https://colab.research.google.com/assets/colab-badge.svg\" alt=\"Open In Colab\"/></a>"
      ]
    },
    {
      "cell_type": "markdown",
      "source": [
        "# **01_add_two_numbers**"
      ],
      "metadata": {
        "id": "pTbQVnHXoxlh"
      }
    },
    {
      "cell_type": "code",
      "execution_count": null,
      "metadata": {
        "colab": {
          "base_uri": "https://localhost:8080/"
        },
        "id": "wIFMSTsRmSK7",
        "outputId": "a5a2de32-ad85-447a-df36-8ee6cd640f72"
      },
      "outputs": [
        {
          "output_type": "stream",
          "name": "stdout",
          "text": [
            "####################################\n",
            "#       Addition Program           #\n",
            "####################################\n",
            "\n",
            "This program adds two numbers provided by you.\n",
            "\n",
            "Enter the first number: 4\n",
            "Enter the second number: 5\n",
            "\n",
            "------------------------------------\n",
            "The total sum of the two numbers is: 9\n",
            "------------------------------------\n"
          ]
        }
      ],
      "source": [
        "def main():\n",
        "    # Displaying a heading for the program\n",
        "    print(\"####################################\")\n",
        "    print(\"#       Addition Program           #\")\n",
        "    print(\"####################################\\n\")\n",
        "\n",
        "    # Introduction message\n",
        "    print(\"This program adds two numbers provided by you.\\n\")\n",
        "\n",
        "    # Taking input from the user\n",
        "    num1 = int(input(\"Enter the first number: \"))\n",
        "    num2 = int(input(\"Enter the second number: \"))\n",
        "\n",
        "    # Calculating the sum\n",
        "    total = num1 + num2\n",
        "\n",
        "    # Displaying the result\n",
        "    print(\"\\n------------------------------------\")\n",
        "    print(\"The total sum of the two numbers is:\", total)\n",
        "    print(\"------------------------------------\")\n",
        "\n",
        "if __name__ == '__main__':\n",
        "    main()\n"
      ]
    },
    {
      "cell_type": "markdown",
      "source": [
        "# **02_agreement_bot**"
      ],
      "metadata": {
        "id": "cIJPO0gppEmt"
      }
    },
    {
      "cell_type": "code",
      "source": [
        "def main():\n",
        "    # Displaying a heading for the program\n",
        "    print(\"####################################\")\n",
        "    print(\"#    Favorite Animal Program       #\")\n",
        "    print(\"####################################\\n\")\n",
        "\n",
        "    # Introduction message\n",
        "    print(\"Let's find out our favorite animals!\\n\")\n",
        "\n",
        "    # Asking the user for their favorite animal\n",
        "    animal = input(\"What's your favorite animal? \")\n",
        "\n",
        "    # Displaying the formatted output\n",
        "    print(\"\\n------------------------------------\")\n",
        "    print(\"My favorite animal is also \" + animal + \"!\")\n",
        "    print(\"------------------------------------\")\n",
        "\n",
        "if __name__ == '__main__':\n",
        "    main()"
      ],
      "metadata": {
        "colab": {
          "base_uri": "https://localhost:8080/"
        },
        "id": "f7p3YbwToT3e",
        "outputId": "5ed681c2-8e0f-4195-a200-d2a19c03d330"
      },
      "execution_count": null,
      "outputs": [
        {
          "output_type": "stream",
          "name": "stdout",
          "text": [
            "####################################\n",
            "#    Favorite Animal Program       #\n",
            "####################################\n",
            "\n",
            "Let's find out our favorite animals!\n",
            "\n",
            "What's your favorite animal? Cat\n",
            "\n",
            "------------------------------------\n",
            "My favorite animal is also Cat!\n",
            "------------------------------------\n"
          ]
        }
      ]
    },
    {
      "cell_type": "markdown",
      "source": [
        "# **03_fahrenheit_to_celsius**"
      ],
      "metadata": {
        "id": "XMhHXaNlp7VO"
      }
    },
    {
      "cell_type": "code",
      "source": [
        "def main():\n",
        "    # Displaying a heading for the program\n",
        "    print(\"########################################\")\n",
        "    print(\"#   Fahrenheit to Celsius Converter    #\")\n",
        "    print(\"########################################\\n\")\n",
        "\n",
        "    # Introduction message\n",
        "    print(\"Welcome to the Temperature Converter!\\n\")\n",
        "\n",
        "    # Prompting the user to enter the temperature in Fahrenheit\n",
        "    fahrenheit = float(input(\"Enter temperature in Fahrenheit: \"))\n",
        "\n",
        "    # Converting Fahrenheit to Celsius\n",
        "    celsius = (fahrenheit - 32) * 5.0 / 9.0\n",
        "\n",
        "    # Displaying the formatted output\n",
        "    print(\"\\n----------------------------------------\")\n",
        "    print(f\"Temperature: {fahrenheit}F = {celsius}C\")\n",
        "    print(\"----------------------------------------\")\n",
        "\n",
        "if __name__ == '__main__':\n",
        "    main()\n"
      ],
      "metadata": {
        "colab": {
          "base_uri": "https://localhost:8080/"
        },
        "id": "bxtat_eXpK83",
        "outputId": "70705728-d64e-4357-e35f-b15f9b5023a1"
      },
      "execution_count": null,
      "outputs": [
        {
          "output_type": "stream",
          "name": "stdout",
          "text": [
            "########################################\n",
            "#   Fahrenheit to Celsius Converter    #\n",
            "########################################\n",
            "\n",
            "Welcome to the Temperature Converter!\n",
            "\n",
            "Enter temperature in Fahrenheit: 45\n",
            "\n",
            "----------------------------------------\n",
            "Temperature: 45.0F = 7.222222222222222C\n",
            "----------------------------------------\n"
          ]
        }
      ]
    },
    {
      "cell_type": "markdown",
      "source": [
        "# **04_how_old_are_they**"
      ],
      "metadata": {
        "id": "dVDGOEbZrMqG"
      }
    },
    {
      "cell_type": "code",
      "source": [
        "def main():\n",
        "    # Displaying a heading for the program\n",
        "    print(\"####################################\")\n",
        "    print(\"#      Age Riddle Solver           #\")\n",
        "    print(\"####################################\\n\")\n",
        "\n",
        "    # Calculating ages based on the given riddle\n",
        "    anton = 21               # Anton's age is given as 21 years old\n",
        "    beth = 6 + anton         # Beth is 6 years older than Anton\n",
        "    chen = 20 + beth         # Chen is 20 years older than Beth\n",
        "    drew = chen + anton      # Drew is as old as Chen's age plus Anton's age\n",
        "    ethan = chen             # Ethan is the same age as Chen\n",
        "\n",
        "    # Displaying the names and ages\n",
        "    print(\"Anton is \" + str(anton))\n",
        "    print(\"Beth is \" + str(beth))\n",
        "    print(\"Chen is \" + str(chen))\n",
        "    print(\"Drew is \" + str(drew))\n",
        "    print(\"Ethan is \" + str(ethan))\n",
        "\n",
        "if __name__ == '__main__':\n",
        "    main()\n"
      ],
      "metadata": {
        "colab": {
          "base_uri": "https://localhost:8080/"
        },
        "id": "i7sisKNsrjav",
        "outputId": "23d25628-0860-4f05-ef5c-2aa7d03d6b7f"
      },
      "execution_count": null,
      "outputs": [
        {
          "output_type": "stream",
          "name": "stdout",
          "text": [
            "####################################\n",
            "#      Age Riddle Solver           #\n",
            "####################################\n",
            "\n",
            "Anton is 21\n",
            "Beth is 27\n",
            "Chen is 47\n",
            "Drew is 68\n",
            "Ethan is 47\n"
          ]
        }
      ]
    },
    {
      "cell_type": "markdown",
      "source": [
        "# **05_triangle_perimeter**"
      ],
      "metadata": {
        "id": "hlpTcLBNsEur"
      }
    },
    {
      "cell_type": "code",
      "source": [
        "def main():\n",
        "    # Displaying a heading for the program\n",
        "    print(\"########################################\")\n",
        "    print(\"#   Triangle Perimeter Calculator      #\")\n",
        "    print(\"########################################\\n\")\n",
        "\n",
        "    # Introduction message\n",
        "    print(\"Welcome! Let's calculate the perimeter of a triangle.\\n\")\n",
        "\n",
        "    # Prompting the user for the side lengths of the triangle\n",
        "    side1 = float(input(\"What is the length of side 1? \"))\n",
        "    side2 = float(input(\"What is the length of side 2? \"))\n",
        "    side3 = float(input(\"What is the length of side 3? \"))\n",
        "\n",
        "    # Calculating the perimeter by summing the sides\n",
        "    perimeter = side1 + side2 + side3\n",
        "\n",
        "    # Displaying the result with formatting\n",
        "    print(\"\\n----------------------------------------\")\n",
        "    print(\"The perimeter of the triangle is \" + str(perimeter))\n",
        "    print(\"----------------------------------------\")\n",
        "\n",
        "if __name__ == '__main__':\n",
        "    main()\n"
      ],
      "metadata": {
        "colab": {
          "base_uri": "https://localhost:8080/"
        },
        "id": "fDwZ3uwnsK83",
        "outputId": "fbca8a78-f899-45c0-afe3-facd81eea51a"
      },
      "execution_count": null,
      "outputs": [
        {
          "output_type": "stream",
          "name": "stdout",
          "text": [
            "########################################\n",
            "#   Triangle Perimeter Calculator      #\n",
            "########################################\n",
            "\n",
            "Welcome! Let's calculate the perimeter of a triangle.\n",
            "\n",
            "What is the length of side 1? 3\n",
            "What is the length of side 2? 5\n",
            "What is the length of side 3? 6\n",
            "\n",
            "----------------------------------------\n",
            "The perimeter of the triangle is 14.0\n",
            "----------------------------------------\n"
          ]
        }
      ]
    },
    {
      "cell_type": "markdown",
      "source": [
        "# **06_square_number**"
      ],
      "metadata": {
        "id": "PlQQJNuvsiWt"
      }
    },
    {
      "cell_type": "code",
      "source": [
        "def main():\n",
        "    # Displaying a heading for the program\n",
        "    print(\"########################################\")\n",
        "    print(\"#       Number Squaring Program        #\")\n",
        "    print(\"########################################\\n\")\n",
        "\n",
        "    # Introduction message\n",
        "    print(\"Welcome! Let's compute the square of a number.\\n\")\n",
        "\n",
        "    # Prompt the user to enter a number\n",
        "    num = float(input(\"Type a number to see its square: \"))\n",
        "\n",
        "    # Calculate the square of the number\n",
        "    square = num ** 2\n",
        "\n",
        "    # Display the result with formatting\n",
        "    print(\"\\n----------------------------------------\")\n",
        "    print(f\"{num} squared is {square}\")\n",
        "    print(\"----------------------------------------\")\n",
        "\n",
        "if __name__ == '__main__':\n",
        "    main()\n"
      ],
      "metadata": {
        "colab": {
          "base_uri": "https://localhost:8080/"
        },
        "id": "Sk9QkhWMsn5d",
        "outputId": "fa42bdc0-3985-4867-e365-959efcbb014e"
      },
      "execution_count": null,
      "outputs": [
        {
          "output_type": "stream",
          "name": "stdout",
          "text": [
            "########################################\n",
            "#       Number Squaring Program        #\n",
            "########################################\n",
            "\n",
            "Welcome! Let's compute the square of a number.\n",
            "\n",
            "Type a number to see its square: 8\n",
            "\n",
            "----------------------------------------\n",
            "8.0 squared is 64.0\n",
            "----------------------------------------\n"
          ]
        }
      ]
    }
  ]
}