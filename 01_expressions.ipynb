{
  "nbformat": 4,
  "nbformat_minor": 0,
  "metadata": {
    "colab": {
      "provenance": [],
      "authorship_tag": "ABX9TyN0WbN/wjW0F1aqHXWVBaXy",
      "include_colab_link": true
    },
    "kernelspec": {
      "name": "python3",
      "display_name": "Python 3"
    },
    "language_info": {
      "name": "python"
    }
  },
  "cells": [
    {
      "cell_type": "markdown",
      "metadata": {
        "id": "view-in-github",
        "colab_type": "text"
      },
      "source": [
        "<a href=\"https://colab.research.google.com/github/MaryamAnsari123/m4m-assignment-04-googlecolab/blob/main/01_expressions.ipynb\" target=\"_parent\"><img src=\"https://colab.research.google.com/assets/colab-badge.svg\" alt=\"Open In Colab\"/></a>"
      ]
    },
    {
      "cell_type": "markdown",
      "source": [
        "# **01_dicesimulator**"
      ],
      "metadata": {
        "id": "ea795A7LzeGh"
      }
    },
    {
      "cell_type": "code",
      "execution_count": null,
      "metadata": {
        "colab": {
          "base_uri": "https://localhost:8080/"
        },
        "id": "GAQMv1mRzTqT",
        "outputId": "34a6cf2b-0e72-45ef-f6e6-7bb9327b67e7"
      },
      "outputs": [
        {
          "output_type": "stream",
          "name": "stdout",
          "text": [
            "\n",
            " ----- dicesimulator ----- \n",
            "\n",
            "die1 in main() starts as: 10\n",
            "Total of two dice: 9\n",
            "Total of two dice: 10\n",
            "Total of two dice: 6\n",
            "die1 in main() is: 10\n"
          ]
        }
      ],
      "source": [
        "\"\"\"\n",
        "Program: dicesimulator\n",
        "----------------------\n",
        "Simulate rolling two dice, three times. Prints\n",
        "the results of each die roll. This program is used\n",
        "to show how variable scope works.\n",
        "\"\"\"\n",
        "\n",
        "# Import the random library which lets us simulate random things like dice!\n",
        "import random\n",
        "print(\"\\n ----- dicesimulator ----- \\n\")\n",
        "# Number of sides on each die to roll\n",
        "NUM_SIDES = 6\n",
        "\n",
        "def roll_dice():\n",
        "    \"\"\"\n",
        "    Simulates rolling two dice and prints their total\n",
        "    \"\"\"\n",
        "    die1: int = random.randint(1, NUM_SIDES)\n",
        "    die2: int = random.randint(1, NUM_SIDES)\n",
        "    total: int = die1 + die2\n",
        "    print(\"Total of two dice:\", total)\n",
        "\n",
        "def main():\n",
        "    die1: int = 10\n",
        "    print(\"die1 in main() starts as:\", die1)\n",
        "    roll_dice()\n",
        "    roll_dice()\n",
        "    roll_dice()\n",
        "    print(\"die1 in main() is:\", die1)\n",
        "\n",
        "# This provided line is required at the end of a Python file\n",
        "# to call the main() function.\n",
        "if __name__ == '__main__':\n",
        "    main()\n"
      ]
    },
    {
      "cell_type": "markdown",
      "source": [
        "# **02_e=mc2**"
      ],
      "metadata": {
        "id": "0eOIgc5i0pJM"
      }
    },
    {
      "cell_type": "code",
      "source": [
        "\"\"\"\n",
        "Program: mass_energy_converter\n",
        "------------------------------\n",
        "Reads in mass from the user and calculates energy\n",
        "using Einstein's famous formula: E = m * c^2\n",
        "\"\"\"\n",
        "print(\"\\n ----- Mass_energy_converter ----- \\n\")\n",
        "# Constant speed of light in meters per second\n",
        "C: int = 299_792_458  # m/s\n",
        "\n",
        "def main():\n",
        "    # Get user input\n",
        "    mass_in_kg: float = float(input(\"Enter kilos of mass: \"))\n",
        "\n",
        "    # Calculate energy using Einstein's formula\n",
        "    energy_in_joules: float = mass_in_kg * (C ** 2)\n",
        "\n",
        "    # Show the steps and result\n",
        "    print(\"\\ne = m * C ^ 2...\\n\")\n",
        "    print(f\"m = {mass_in_kg} kg\\n\")\n",
        "    print(f\"C = {C} m/s\\n\")\n",
        "    print(f\"{energy_in_joules} joules of energy!\\n\")\n",
        "\n",
        "\n",
        "# Call the main function\n",
        "if __name__ == '__main__':\n",
        "    main()"
      ],
      "metadata": {
        "colab": {
          "base_uri": "https://localhost:8080/"
        },
        "id": "XCnmu0eW0vap",
        "outputId": "ad0ef774-3de9-4369-92af-4983c22fb706"
      },
      "execution_count": null,
      "outputs": [
        {
          "output_type": "stream",
          "name": "stdout",
          "text": [
            "\n",
            " ----- Mass_energy_converter ----- \n",
            "\n",
            "Enter kilos of mass: 20\n",
            "\n",
            "e = m * C ^ 2...\n",
            "\n",
            "m = 20.0 kg\n",
            "\n",
            "C = 299792458 m/s\n",
            "\n",
            "1.7975103574736353e+18 joules of energy!\n",
            "\n"
          ]
        }
      ]
    },
    {
      "cell_type": "markdown",
      "source": [
        "# **03_feet_to_inches**"
      ],
      "metadata": {
        "id": "uT99iW_J2iM1"
      }
    },
    {
      "cell_type": "code",
      "source": [
        "\"\"\"\n",
        "Program: feet_to_inches_converter\n",
        "---------------------------------\n",
        "Converts feet to inches. There are 12 inches in a foot.\n",
        "\"\"\"\n",
        "print(\"\\n ----- feet_to_inches_converter ----- \\n\")\n",
        "# Constant for conversion\n",
        "INCHES_IN_FOOT: int = 12\n",
        "\n",
        "def main():\n",
        "    # Ask the user to enter the number of feet\n",
        "    feet: float = float(input(\"Enter number of feet: \"))\n",
        "\n",
        "    # Convert feet to inches\n",
        "    inches: float = feet * INCHES_IN_FOOT\n",
        "\n",
        "    # Display the result\n",
        "    print(f\"\\nThat is {inches} inches!\\n\")\n",
        "\n",
        "\n",
        "# This line calls the main function\n",
        "if __name__ == '__main__':\n",
        "    main()\n"
      ],
      "metadata": {
        "colab": {
          "base_uri": "https://localhost:8080/"
        },
        "id": "y0tJfWZw2fM4",
        "outputId": "1bdb043b-915a-42f0-9daf-a456dc154058"
      },
      "execution_count": null,
      "outputs": [
        {
          "output_type": "stream",
          "name": "stdout",
          "text": [
            "\n",
            " ----- feet_to_inches_converter ----- \n",
            "\n",
            "Enter number of feet: 4\n",
            "\n",
            "That is 48.0 inches!\n",
            "\n"
          ]
        }
      ]
    },
    {
      "cell_type": "markdown",
      "source": [
        "# **04_pythagorean_theorem**"
      ],
      "metadata": {
        "id": "RfBV6tIY3NRJ"
      }
    },
    {
      "cell_type": "code",
      "source": [
        "\"\"\"\n",
        "Program: right_triangle_hypotenuse\n",
        "----------------------------------\n",
        "This program calculates the hypotenuse (longest side) of a right triangle\n",
        "given the lengths of the two perpendicular sides using the Pythagorean theorem.\n",
        "\"\"\"\n",
        "\n",
        "import math  # Import math module to use sqrt()\n",
        "\n",
        "print(\"\\n ----- right_triangle_hypotenuse ----- \\n\")\n",
        "\n",
        "def main():\n",
        "    # Get the lengths of the two perpendicular sides from the user\n",
        "    ab: float = float(input(\"Enter the length of AB: \"))\n",
        "    ac: float = float(input(\"Enter the length of AC: \"))\n",
        "\n",
        "    # Calculate the hypotenuse using the Pythagorean theorem\n",
        "    bc: float = math.sqrt(ab ** 2 + ac ** 2)\n",
        "\n",
        "    # Display the result\n",
        "    print(f\"\\nThe length of BC (the hypotenuse) is: {bc}\\n\")\n",
        "\n",
        "\n",
        "# This provided line is required at the end of a Python file to call the main() function\n",
        "if __name__ == '__main__':\n",
        "    main()\n"
      ],
      "metadata": {
        "colab": {
          "base_uri": "https://localhost:8080/"
        },
        "id": "NCKDdgc03RmS",
        "outputId": "51f005b5-6ff8-4d4a-8c5f-3f23d4e49155"
      },
      "execution_count": null,
      "outputs": [
        {
          "output_type": "stream",
          "name": "stdout",
          "text": [
            "\n",
            " ----- right_triangle_hypotenuse ----- \n",
            "\n",
            "Enter the length of AB: 3\n",
            "Enter the length of AC: 4\n",
            "\n",
            "The length of BC (the hypotenuse) is: 5.0\n",
            "\n"
          ]
        }
      ]
    },
    {
      "cell_type": "markdown",
      "source": [
        "# **05_remainder_division**"
      ],
      "metadata": {
        "id": "U_27Ur4B33i8"
      }
    },
    {
      "cell_type": "code",
      "source": [
        "\"\"\"\n",
        "Program: division_with_remainder\n",
        "--------------------------------\n",
        "Asks the user for two integers and prints the result of dividing\n",
        "the first number by the second, including the quotient and remainder.\n",
        "\"\"\"\n",
        "\n",
        "print(\"\\n ----- division_with_remainder ----- \\n\")\n",
        "\n",
        "def main():\n",
        "    # Get user input for the dividend and divisor\n",
        "    dividend: int = int(input(\"Please enter an integer to be divided: \"))\n",
        "    divisor: int = int(input(\"Please enter an integer to divide by: \"))\n",
        "\n",
        "    # Calculate quotient and remainder\n",
        "    quotient: int = dividend // divisor\n",
        "    remainder: int = dividend % divisor\n",
        "\n",
        "    # Display the result\n",
        "    print(f\"\\nThe result of this division is {quotient} with a remainder of {remainder}\\n\")\n",
        "\n",
        "\n",
        "# Required line to call main() when this file runs\n",
        "if __name__ == '__main__':\n",
        "    main()\n"
      ],
      "metadata": {
        "colab": {
          "base_uri": "https://localhost:8080/"
        },
        "id": "njlOLoUT35pw",
        "outputId": "4812f49c-6a93-482b-b5a2-18aea53d6212"
      },
      "execution_count": null,
      "outputs": [
        {
          "output_type": "stream",
          "name": "stdout",
          "text": [
            "\n",
            " ----- division_with_remainder ----- \n",
            "\n",
            "Please enter an integer to be divided: 3\n",
            "Please enter an integer to divide by: 1\n",
            "\n",
            "The result of this division is 3 with a remainder of 0\n",
            "\n"
          ]
        }
      ]
    },
    {
      "cell_type": "markdown",
      "source": [
        "# **06_rolldice**"
      ],
      "metadata": {
        "id": "wSQSqvGT4iBb"
      }
    },
    {
      "cell_type": "code",
      "source": [
        "\"\"\"\n",
        "Program: dice_roll_simulator\n",
        "----------------------------\n",
        "Simulates rolling two dice and prints the results of each roll\n",
        "as well as the total.\n",
        "\"\"\"\n",
        "\n",
        "import random  # Import the random module to simulate randomness\n",
        "\n",
        "print(\"\\n ----- dice_roll_simulator ----- \\n\")\n",
        "\n",
        "# Constant for number of sides on each die\n",
        "NUM_SIDES: int = 6\n",
        "\n",
        "def main():\n",
        "    # (Optional) Set a seed for reproducible results during testing\n",
        "    # random.seed(1)\n",
        "\n",
        "    # Roll the dice\n",
        "    die1: int = random.randint(1, NUM_SIDES)\n",
        "    die2: int = random.randint(1, NUM_SIDES)\n",
        "\n",
        "    # Calculate the total\n",
        "    total: int = die1 + die2\n",
        "\n",
        "    # Display results\n",
        "    print(f\"\\nDice have {NUM_SIDES} sides each.\")\n",
        "    print(f\"First die: {die1}\")\n",
        "    print(f\"Second die: {die2}\")\n",
        "    print(f\"Total of two dice: {total}\\n\")\n",
        "\n",
        "\n",
        "# Required line to execute main when the file runs directly\n",
        "if __name__ == '__main__':\n",
        "    main()\n"
      ],
      "metadata": {
        "colab": {
          "base_uri": "https://localhost:8080/"
        },
        "id": "GbsidhQO4j_7",
        "outputId": "8ede1aa0-40f6-4df1-aeec-9cc3372833cc"
      },
      "execution_count": null,
      "outputs": [
        {
          "output_type": "stream",
          "name": "stdout",
          "text": [
            "\n",
            " ----- dice_roll_simulator ----- \n",
            "\n",
            "\n",
            "Dice have 6 sides each.\n",
            "First die: 5\n",
            "Second die: 2\n",
            "Total of two dice: 7\n",
            "\n"
          ]
        }
      ]
    },
    {
      "cell_type": "markdown",
      "source": [
        "# **06_seconds_in_year**"
      ],
      "metadata": {
        "id": "1bp4sbu65B3X"
      }
    },
    {
      "cell_type": "code",
      "source": [
        "\"\"\"\n",
        "Program: seconds_in_a_year\n",
        "--------------------------\n",
        "Calculates the number of seconds in a year using\n",
        "basic time conversion constants and prints the result.\n",
        "\"\"\"\n",
        "\n",
        "print(\"\\n ----- seconds_in_a_year ----- \\n\")\n",
        "\n",
        "# Constants\n",
        "DAYS_PER_YEAR: int = 365\n",
        "HOURS_PER_DAY: int = 24\n",
        "MIN_PER_HOUR: int = 60\n",
        "SEC_PER_MIN: int = 60\n",
        "\n",
        "def main():\n",
        "    # Calculate total seconds in a year\n",
        "    seconds_per_year: int = DAYS_PER_YEAR * HOURS_PER_DAY * MIN_PER_HOUR * SEC_PER_MIN\n",
        "\n",
        "    # Print the result in a user-friendly format\n",
        "    print(f\"There are {seconds_per_year} seconds in a year!\")\n",
        "\n",
        "\n",
        "# Call the main function if this file is run directly\n",
        "if __name__ == '__main__':\n",
        "    main()\n"
      ],
      "metadata": {
        "id": "6jsKyrGp5NXz",
        "colab": {
          "base_uri": "https://localhost:8080/"
        },
        "outputId": "2fa5de6c-41e5-40a2-e38b-c3cf63431ccd"
      },
      "execution_count": 2,
      "outputs": [
        {
          "output_type": "stream",
          "name": "stdout",
          "text": [
            "\n",
            " ----- seconds_in_a_year ----- \n",
            "\n",
            "There are 31536000 seconds in a year!\n"
          ]
        }
      ]
    },
    {
      "cell_type": "markdown",
      "source": [
        "# **07_tiny_mad_lib**"
      ],
      "metadata": {
        "id": "KN-IQEmwp4G9"
      }
    },
    {
      "cell_type": "code",
      "source": [
        "\"\"\"\n",
        "Program: mad_libs_sentence\n",
        "--------------------------\n",
        "Prompts the user for an adjective, noun, and verb, then\n",
        "constructs a fun sentence using those inputs.\n",
        "\"\"\"\n",
        "\n",
        "# Constant sentence starter\n",
        "SENTENCE_START: str = \"Panaversity is fun. I learned to program and used Python to make my \"  # adjective noun verb\n",
        "\n",
        "print(\"\\n ----- Mad_libs_sentence  ----- \\n\")\n",
        "\n",
        "def main():\n",
        "    # Get user input\n",
        "    adjective: str = input(\"Please type an adjective and press enter: \")\n",
        "    noun: str = input(\"Please type a noun and press enter: \")\n",
        "    verb: str = input(\"Please type a verb and press enter: \")\n",
        "\n",
        "    # Construct and display the final sentence\n",
        "    final_sentence: str = SENTENCE_START + adjective + \" \" + noun + \" \" + verb + \"!\"\n",
        "    print(final_sentence)\n",
        "\n",
        "\n",
        "# This line ensures main() is called when the file is executed\n",
        "if __name__ == '__main__':\n",
        "    main()"
      ],
      "metadata": {
        "colab": {
          "base_uri": "https://localhost:8080/"
        },
        "id": "a81WtbbTp3p1",
        "outputId": "bd845ef6-5e76-401b-d070-fecf8ca172a6"
      },
      "execution_count": 6,
      "outputs": [
        {
          "output_type": "stream",
          "name": "stdout",
          "text": [
            "\n",
            " ----- Mad_libs_sentence  ----- \n",
            "\n",
            "Please type an adjective and press enter: tiny\n",
            "Please type a noun and press enter: robot\n",
            "Please type a verb and press enter: dance\n",
            "Panaversity is fun. I learned to program and used Python to make my tiny robot dance!\n"
          ]
        }
      ]
    }
  ]
}